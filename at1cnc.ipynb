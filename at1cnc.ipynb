{
  "nbformat": 4,
  "nbformat_minor": 0,
  "metadata": {
    "colab": {
      "provenance": [],
      "authorship_tag": "ABX9TyNl8yQL3JI9tCyO/VFlR3fL",
      "include_colab_link": true
    },
    "kernelspec": {
      "name": "python3",
      "display_name": "Python 3"
    },
    "language_info": {
      "name": "python"
    }
  },
  "cells": [
    {
      "cell_type": "markdown",
      "metadata": {
        "id": "view-in-github",
        "colab_type": "text"
      },
      "source": [
        "<a href=\"https://colab.research.google.com/github/manaus05/cncatividades/blob/main/at1cnc.ipynb\" target=\"_parent\"><img src=\"https://colab.research.google.com/assets/colab-badge.svg\" alt=\"Open In Colab\"/></a>"
      ]
    },
    {
      "cell_type": "code",
      "execution_count": 8,
      "metadata": {
        "colab": {
          "base_uri": "https://localhost:8080/"
        },
        "id": "TJSDl8r4LMZt",
        "outputId": "dac25ac5-7e95-49e8-b1fc-f33cfd7547e3"
      },
      "outputs": [
        {
          "output_type": "stream",
          "name": "stdout",
          "text": [
            "9177.8812 = 10001111011001.1110000110\n",
            "5477.2332 = 1010101100101.0011101110\n",
            "5564.3811 = 1010110111100.0110000110\n",
            "6251.5369 = 1100001101011.1000100101\n",
            "7524.961 = 1110101100100.1111011000\n"
          ]
        }
      ],
      "source": [
        "nb = [9177.8812, 5477.2332, 5564.3811, 6251.5369, 7524.961]\n",
        "lim_f = 10\n",
        "\n",
        "for i in nb:\n",
        "    x = i\n",
        "    inteiro = int(x)\n",
        "    restos = []\n",
        "    n = inteiro\n",
        "    if n == 0:\n",
        "        restos.append(\"0\")\n",
        "    else:\n",
        "        while n > 0:\n",
        "            restos.append(str(n % 2))\n",
        "            n = n // 2\n",
        "    restos.reverse()\n",
        "    bin_inteiro = \"\".join(restos)\n",
        "\n",
        "    frac = x - inteiro\n",
        "    bits_frac = []\n",
        "    f = frac\n",
        "    for _ in range(lim_f):\n",
        "        f *= 2\n",
        "        bit = int(f)\n",
        "        bits_frac.append(str(bit))\n",
        "        f -= bit\n",
        "        if f == 0:\n",
        "            break\n",
        "    bin_fracao = \"\".join(bits_frac)\n",
        "\n",
        "\n",
        "    if bin_fracao == \"\":\n",
        "        result = bin_inteiro\n",
        "    else:\n",
        "        result = bin_inteiro + \".\" + bin_fracao\n",
        "\n",
        "    print(i, \"=\", result)\n"
      ]
    }
  ]
}